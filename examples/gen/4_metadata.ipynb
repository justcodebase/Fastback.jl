{
 "cells": [
  {
   "cell_type": "markdown",
   "source": [
    "# Attach metadata to instruments and orders\n",
    "\n",
    "This example, based on *Random trading strategy example*, demonstrates\n",
    "how to add metadata to instruments and orders. This is useful for\n",
    "attaching additional information to instruments and orders, such as\n",
    "instrument names, descriptions, or custom attributes, e.g. for storing the\n",
    "signal, strategy, or model that generated the order.\n",
    "\n",
    "The type of the metadata can be arbitrarily defined by the user,\n",
    "and is typesafe for best performance.\n",
    "\n",
    "The `Account` type has the following three type parameters:\n",
    "- `OData`: Order metadata type\n",
    "- `IData`: Instrument metadata type\n",
    "- `CData`: Cash metadata type\n",
    "\n",
    "by default, these are set to `Nothing`, but can be customized to any type.\n",
    "\n",
    "In this example, we define custom types `OData` for order metadata,\n",
    "and `IData` for instrument metadata.\n",
    "The order metadata type `OData` has a single field `probability::Float64`,\n",
    "and the instrument metadata type `IData` has a single field `full_name::String`."
   ],
   "metadata": {}
  },
  {
   "outputs": [],
   "cell_type": "code",
   "source": [
    "using Fastback\n",
    "using Dates\n",
    "using Random\n",
    "using Printf\n",
    "\n",
    "# set RNG seed for reproducibility\n",
    "Random.seed!(42);\n",
    "\n",
    "# metadata type for orders\n",
    "struct OData\n",
    "    probability::Float64\n",
    "end\n",
    "\n",
    "function Base.show(io::IO, o::OData)\n",
    "    print(io, @sprintf(\"probability=%.2f\", o.probability))\n",
    "end\n",
    "\n",
    "# metadata type for instruments\n",
    "struct IData\n",
    "    full_name::String\n",
    "end\n",
    "\n",
    "function Base.show(io::IO, o::IData)\n",
    "    print(io, \"full_name=$(o.full_name)\")\n",
    "end\n",
    "\n",
    "# generate synthetic price series\n",
    "N = 2_000;\n",
    "prices = 1000.0 .+ cumsum(randn(N) .+ 0.1);\n",
    "dts = map(x -> DateTime(2020, 1, 1) + Hour(x), 0:N-1);\n",
    "\n",
    "# create trading account with $10'000 start capital\n",
    "acc = Account(; odata=OData, idata=IData);\n",
    "add_cash!(acc, Cash(:USD), 10_000.0);\n",
    "\n",
    "# register a dummy instrument\n",
    "DUMMY = register_instrument!(acc, Instrument(Symbol(\"DUMMY/USD\"), :DUMMY, :USD;\n",
    "    metadata=IData(\"Dummy instrument name\")));\n",
    "\n",
    "# data collector for account equity and drawdowns (sampling every hour)\n",
    "collect_equity, equity_data = periodic_collector(Float64, Hour(1));\n",
    "collect_drawdown, drawdown_data = drawdown_collector(DrawdownMode.Percentage, Hour(1));\n",
    "\n",
    "# loop over price series\n",
    "for (dt, price) in zip(dts, prices)\n",
    "    # randomly trade with 1% probability\n",
    "    if rand() < 0.01\n",
    "        prob = rand()\n",
    "        quantity = prob > 0.4 ? 1.0 : -1.0\n",
    "        order = Order(oid!(acc), DUMMY, dt, price, quantity; metadata=OData(prob))\n",
    "        fill_order!(acc, order, dt, price; fill_qty=0.75order.quantity, commission_pct=0.001)\n",
    "    end\n",
    "\n",
    "    # update position and account P&L\n",
    "    update_pnl!(acc, DUMMY, price)\n",
    "\n",
    "    # collect data for plotting\n",
    "    if should_collect(equity_data, dt)\n",
    "        equity_value = equity(acc, :USD)\n",
    "        collect_equity(dt, equity_value)\n",
    "        collect_drawdown(dt, equity_value)\n",
    "    end\n",
    "end"
   ],
   "metadata": {},
   "execution_count": 1
  },
  {
   "cell_type": "markdown",
   "source": [
    "### Print instrument incl. metadata to console"
   ],
   "metadata": {}
  },
  {
   "cell_type": "markdown",
   "source": [
    "Note that at the end, `metadata` is printed\n",
    "based on the `show` method defined above for `IData` type."
   ],
   "metadata": {}
  },
  {
   "outputs": [
    {
     "name": "stdout",
     "output_type": "stream",
     "text": [
      "[Instrument] symbol=DUMMY/USD base=DUMMY [-Inf, Inf]±0.01 quote=USD±0.01 metadata=full_name=Dummy instrument name"
     ]
    }
   ],
   "cell_type": "code",
   "source": [
    "show(DUMMY)"
   ],
   "metadata": {},
   "execution_count": 2
  },
  {
   "cell_type": "markdown",
   "source": [
    "### Print account summary incl. metadata to console"
   ],
   "metadata": {}
  },
  {
   "cell_type": "markdown",
   "source": [
    "Note that at the end of the **Trades** table, a **Metadata** column is shown\n",
    "based on the `show` method defined above for `OData` type."
   ],
   "metadata": {}
  },
  {
   "outputs": [
    {
     "name": "stdout",
     "output_type": "stream",
     "text": [
      "━━━━━━━━━━━━━━━━━━━━━━━━━━━━━━━ ACCOUNT SUMMARY ━━━━━━━━━━━━━━━━━━━━━━━━━━━━━━━\n",
      "\u001b[1mCash balances\u001b[0m (1)\n",
      "┌─────┬──────────┐\n",
      "│     │    Value │\n",
      "├─────┼──────────┤\n",
      "│ USD │ 10140.65 │\n",
      "└─────┴──────────┘\n",
      "\n",
      "\u001b[1mEquity balances\u001b[0m (1)\n",
      "┌─────┬──────────┐\n",
      "│     │    Value │\n",
      "├─────┼──────────┤\n",
      "│ USD │ 10260.77 │\n",
      "└─────┴──────────┘\n",
      "\n",
      "\u001b[1mPositions\u001b[0m (1)\n",
      "┌───────────┬──────────┬────────────┬─────┬────────┐\n",
      "│    Symbol │ Quantity │ Avg. price │ Ccy │    P&L │\n",
      "├───────────┼──────────┼────────────┼─────┼────────┤\n",
      "│ DUMMY/USD │     3.25 │    1086.99 │ USD │ 120.11 │\n",
      "└───────────┴──────────┴────────────┴─────┴────────┘\n",
      "\n",
      "\u001b[1mTrades\u001b[0m (23)\n",
      "┌────┬───────────┬─────────────────────┬──────────┬──────────┬─────────────┬────────────┬─────┬──────────────┬───────┬──────────────────┐\n",
      "│ ID │    Symbol │                Date │ Quantity │ Fill qty │ Remain. qty │ Fill price │ Ccy │ Realized P&L │ Comm. │         Metadata │\n",
      "├────┼───────────┼─────────────────────┼──────────┼──────────┼─────────────┼────────────┼─────┼──────────────┼───────┼──────────────────┤\n",
      "│  1 │ DUMMY/USD │ 2020-01-01 03:00:00 │     1.00 │     0.75 │        0.25 │     999.66 │ USD │        -0.75 │  0.75 │ probability=0.79 │\n",
      "│  2 │ DUMMY/USD │ 2020-01-05 02:00:00 │     1.00 │     0.75 │        0.25 │    1004.04 │ USD │        -0.75 │  0.75 │ probability=0.48 │\n",
      "│  3 │ DUMMY/USD │ 2020-01-07 18:00:00 │     1.00 │     0.75 │        0.25 │    1005.23 │ USD │        -0.75 │  0.75 │ probability=0.92 │\n",
      "│  4 │ DUMMY/USD │ 2020-01-10 04:00:00 │    -1.00 │    -1.00 │        0.00 │    1014.50 │ USD │        12.54 │ -1.01 │ probability=0.14 │\n",
      "│  5 │ DUMMY/USD │ 2020-01-14 05:00:00 │     1.00 │     0.75 │        0.25 │    1005.24 │ USD │        -0.75 │  0.75 │ probability=0.50 │\n",
      "│  6 │ DUMMY/USD │ 2020-01-16 05:00:00 │    -1.00 │    -1.00 │        0.00 │     998.26 │ USD │        -4.57 │ -1.00 │ probability=0.17 │\n",
      "│  7 │ DUMMY/USD │ 2020-01-16 18:00:00 │     1.00 │     0.75 │        0.25 │     998.62 │ USD │        -0.75 │  0.75 │ probability=0.96 │\n",
      "│  8 │ DUMMY/USD │ 2020-01-18 03:00:00 │     1.00 │     0.75 │        0.25 │    1002.23 │ USD │        -0.75 │  0.75 │ probability=0.61 │\n",
      "│  9 │ DUMMY/USD │ 2020-01-18 10:00:00 │    -1.00 │    -1.00 │        0.00 │    1003.12 │ USD │         2.34 │ -1.00 │ probability=0.18 │\n",
      "│ 10 │ DUMMY/USD │ 2020-01-19 02:00:00 │    -1.00 │    -1.00 │        0.00 │    1007.68 │ USD │         6.90 │ -1.01 │ probability=0.34 │\n",
      "│ 11 │ DUMMY/USD │ 2020-01-30 02:00:00 │     1.00 │     0.75 │        0.25 │    1014.10 │ USD │        -0.76 │  0.76 │ probability=0.98 │\n",
      "│ 12 │ DUMMY/USD │ 2020-02-03 14:00:00 │     1.00 │     0.75 │        0.25 │    1026.44 │ USD │        -0.77 │  0.77 │ probability=0.78 │\n",
      "│ 13 │ DUMMY/USD │ 2020-02-10 16:00:00 │     1.00 │     0.75 │        0.25 │    1039.42 │ USD │        -0.78 │  0.78 │ probability=0.65 │\n",
      "│ 14 │ DUMMY/USD │ 2020-02-12 20:00:00 │     1.00 │     0.75 │        0.25 │    1050.59 │ USD │        -0.79 │  0.79 │ probability=0.90 │\n",
      "│ 15 │ DUMMY/USD │ 2020-02-27 17:00:00 │     1.00 │     0.75 │        0.25 │    1049.16 │ USD │        -0.79 │  0.79 │ probability=0.57 │\n",
      "│ 16 │ DUMMY/USD │ 2020-02-27 23:00:00 │    -1.00 │    -1.00 │        0.00 │    1044.86 │ USD │        13.98 │ -1.04 │ probability=0.26 │\n",
      "│ 17 │ DUMMY/USD │ 2020-03-04 21:00:00 │    -1.00 │    -1.00 │        0.00 │    1069.05 │ USD │        38.20 │ -1.07 │ probability=0.14 │\n",
      "│ 18 │ DUMMY/USD │ 2020-03-07 17:00:00 │    -1.00 │    -1.00 │        0.00 │    1076.76 │ USD │        45.92 │ -1.08 │ probability=0.33 │\n",
      "│ 19 │ DUMMY/USD │ 2020-03-10 02:00:00 │     1.00 │     0.75 │        0.25 │    1090.97 │ USD │        -0.82 │  0.82 │ probability=0.84 │\n",
      "│ 20 │ DUMMY/USD │ 2020-03-18 04:00:00 │     1.00 │     0.75 │        0.25 │    1113.01 │ USD │        -0.83 │  0.83 │ probability=0.66 │\n",
      "│ 21 │ DUMMY/USD │ 2020-03-18 23:00:00 │     1.00 │     0.75 │        0.25 │    1114.18 │ USD │        -0.84 │  0.84 │ probability=0.47 │\n",
      "│ 22 │ DUMMY/USD │ 2020-03-22 17:00:00 │     1.00 │     0.75 │        0.25 │    1121.58 │ USD │        -0.84 │  0.84 │ probability=0.42 │\n",
      "│ 23 │ DUMMY/USD │ 2020-03-23 00:00:00 │    -1.00 │    -1.00 │        0.00 │    1122.93 │ USD │        37.07 │ -1.12 │ probability=0.19 │\n",
      "└────┴───────────┴─────────────────────┴──────────┴──────────┴─────────────┴────────────┴─────┴──────────────┴───────┴──────────────────┘\n",
      "━━━━━━━━━━━━━━━━━━━━━━━━━━━━━━━━━━━━━━━━━━━━━━━━━━━━━━━━━━━━━━━━━━━━━━━━━━━━━━━━\n"
     ]
    }
   ],
   "cell_type": "code",
   "source": [
    "show(acc)"
   ],
   "metadata": {},
   "execution_count": 3
  }
 ],
 "nbformat_minor": 3,
 "metadata": {
  "language_info": {
   "file_extension": ".jl",
   "mimetype": "application/julia",
   "name": "julia",
   "version": "1.10.4"
  },
  "kernelspec": {
   "name": "julia-1.10",
   "display_name": "Julia 1.10.4",
   "language": "julia"
  }
 },
 "nbformat": 4
}
